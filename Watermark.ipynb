{
 "cells": [
  {
   "cell_type": "markdown",
   "metadata": {
    "id": "nHAwVOCSNYMV"
   },
   "source": [
    "Name:\n",
    "<br>\n",
    "Student Number:"
   ]
  },
  {
   "cell_type": "markdown",
   "metadata": {
    "id": "VCg4Lseuuo6B"
   },
   "source": [
    "# Watermark"
   ]
  },
  {
   "cell_type": "markdown",
   "metadata": {
    "id": "2NFw3t2j2bt7"
   },
   "source": [
    "A watermark is an image, overlay, or text that's placed over a digital asset. Usually, the image will be monochromatic and transparent, to enable others to still view the asset. You can read about the importance of the watermark in this [link](https://www.mediavalet.com/blog/watermarks-are-important/#)."
   ]
  },
  {
   "cell_type": "markdown",
   "metadata": {
    "id": "UlqdoYMKm-x3"
   },
   "source": [
    "# Add Watermark"
   ]
  },
  {
   "cell_type": "markdown",
   "metadata": {
    "id": "dCABtRMrhpmg"
   },
   "source": [
    "## Imports"
   ]
  },
  {
   "cell_type": "code",
   "execution_count": 1,
   "metadata": {
    "id": "oCnYQJ9PIZkb"
   },
   "outputs": [
    {
     "name": "stdout",
     "output_type": "stream",
     "text": [
      "miew\n"
     ]
    }
   ],
   "source": [
    "print('miew')\n",
    "import numpy as np\n",
    "import cv2\n",
    "# from google.colab.patches import cv2_imshow\n",
    "from PIL import Image"
   ]
  },
  {
   "cell_type": "markdown",
   "metadata": {
    "id": "d_TFYHuahxB3"
   },
   "source": [
    "## Load & Show Images\n",
    "If you are using colab, you can upload the files by running the following cell."
   ]
  },
  {
   "cell_type": "code",
   "execution_count": null,
   "metadata": {
    "id": "jVPaQaWZSHgZ"
   },
   "outputs": [],
   "source": [
    "# from google.colab import files\n",
    "# uploaded = files.upload()"
   ]
  },
  {
   "cell_type": "markdown",
   "metadata": {
    "id": "TvhK-cE9_lWI"
   },
   "source": [
    "In the following cell, load the original image and the logo from the folder add_watermark and plot them using the ```cv2``` library. \n",
    "\n",
    "Note: both the image and the logo should be gray-scale."
   ]
  },
  {
   "cell_type": "code",
   "execution_count": 56,
   "metadata": {
    "id": "bLXgbQJbJgXO"
   },
   "outputs": [],
   "source": [
    "original_img = None\n",
    "watermark_img = None\n",
    "##################\n",
    "#   Code here    #\n",
    "original_img = cv2.imread(r'./add_watermark/dog.png')\n",
    "watermark_img = cv2.imread(r'./add_watermark/logo.png')\n",
    "\n",
    "original_img = cv2.cvtColor(original_img, cv2.COLOR_BGR2GRAY)\n",
    "watermark_img = cv2.cvtColor(watermark_img, cv2.COLOR_BGR2GRAY)  \n",
    "\n",
    "cv2.imshow('watermark', watermark_img)\n",
    "cv2.imshow('dog', original_img)\n",
    "cv2.waitKey(0)\n",
    "cv2.destroyAllWindows()\n",
    "\n",
    "#   5 points     #\n",
    "##################"
   ]
  },
  {
   "cell_type": "markdown",
   "metadata": {
    "id": "aI3VXegRx-SJ"
   },
   "source": [
    "## Implementation [50 points]"
   ]
  },
  {
   "cell_type": "markdown",
   "metadata": {
    "id": "j7moyGofyBnG"
   },
   "source": [
    "In this part you should add watermark to the original image. You should implement the following algorithm.\n",
    "\n",
    "1. Perform SVD on the original image (A matrix) and form the result as $USV^T$.\n",
    "\n",
    "2. Add watermark (W matrix), muliplied by a coefficine K, to the SVs of the original matrix. (S matrix in the previous step)\n",
    "\n",
    "3. Now, perform SVD again on matrix D.\n",
    "\n",
    "4. Replace the matrix S in the first step, with the SVs of the previous step (the middle matrix in step 3) to get the watermarked image.\n",
    "\n"
   ]
  },
  {
   "cell_type": "code",
   "execution_count": 79,
   "metadata": {
    "id": "LClNFGnYIZkb"
   },
   "outputs": [],
   "source": [
    "def encode_watermark(original_img, watermark_img, watermarked_coeff=0.7):\n",
    "    \"\"\"\n",
    "    Args:\n",
    "        original_img (numpy.ndarray): Original Image\n",
    "        watermark_image (numpy.ndarray): Watermark Image\n",
    "\n",
    "    Returns:\n",
    "        numpy.ndarray: Watermarked Image\n",
    "    \"\"\"\n",
    "    ##################\n",
    "    #  Code here     #\n",
    "    u, s, vh = np.linalg.svd(original_img)\n",
    "    s = np.diag(s)\n",
    "    s = s + watermarked_coeff * watermark_img\n",
    "    un, sn, vhn =np.linalg.svd(s)\n",
    "    watermarked_image = np.matrix(u) * np.diag(sn) * np.matrix(vh)\n",
    "    return watermarked_image"
   ]
  },
  {
   "cell_type": "markdown",
   "metadata": {
    "id": "EwAxZW_pAdii"
   },
   "source": [
    "Display the watermarked image. "
   ]
  },
  {
   "cell_type": "code",
   "execution_count": 106,
   "metadata": {
    "id": "3Ao4CglBaMsC"
   },
   "outputs": [],
   "source": [
    "##################\n",
    "#  Code here     #\n",
    "img = encode_watermark(original_img, watermark_img)\n",
    "Image.fromarray(img).show()\n",
    "#  5 points      #\n",
    "##################\n"
   ]
  },
  {
   "cell_type": "markdown",
   "metadata": {
    "id": "7W-uIXMgByti"
   },
   "source": [
    "Explain about the place you added the logo. How is the watermarked image visually different from the original image? [5 points]"
   ]
  },
  {
   "cell_type": "markdown",
   "metadata": {
    "id": "jf6U7aeYLQ1c"
   },
   "source": [
    "Answer: "
   ]
  },
  {
   "cell_type": "code",
   "execution_count": null,
   "metadata": {},
   "outputs": [],
   "source": [
    "# واترماک از نظر بصری مشاهده نمی شود و چشم ما متوجه تغییرات عکس نخواهد شد \n",
    "# در واقع واترمارک در عکس نهفته است و با عملیات مشابه میتوان به وجود آن در عکس پی برد"
   ]
  },
  {
   "cell_type": "markdown",
   "metadata": {
    "id": "PHvgBKz60459"
   },
   "source": [
    "# Watermark Extraction [45 points]"
   ]
  },
  {
   "cell_type": "markdown",
   "metadata": {
    "id": "YOPa13hMpUCm"
   },
   "source": [
    "## Load Files"
   ]
  },
  {
   "cell_type": "code",
   "execution_count": null,
   "metadata": {
    "id": "sMnN2LEGtTsc"
   },
   "outputs": [],
   "source": [
    "# from google.colab import files\n",
    "# uploaded = files.upload()"
   ]
  },
  {
   "cell_type": "code",
   "execution_count": 93,
   "metadata": {
    "id": "OMsDvnoRoXdm"
   },
   "outputs": [],
   "source": [
    "watermarked_u = np.load('./extract_watermark/watermarked_u.npy')\n",
    "watermarked_vh = np.load('./extract_watermark/watermarked_vh.npy')\n",
    "S = np.load('./extract_watermark/S.npy')\n",
    "watermarked_img = cv2.imread('./extract_watermark/watermarked_image.jpg', 0)"
   ]
  },
  {
   "cell_type": "markdown",
   "metadata": {
    "id": "nR_SKsCYqo9y"
   },
   "source": [
    "## Implementation "
   ]
  },
  {
   "cell_type": "markdown",
   "metadata": {
    "id": "_oK9GxmByWx2"
   },
   "source": [
    "The task in this part is to extract the watermarked image from a distorted one ($A^*_w$ matrix) and write the sentence that is written in the watermarked image. The matrix of singular values (S) from the original image, $U_w$, $V^T_w$, and the watermarked image are given to you.\n",
    "\n",
    "1. Perform SVD on the distorted watermarked image ($A^*_w$ matrix) in the form of $U^* S^*_w V^{*T}$.\n",
    "\n",
    "2. Compute the matrix that includes the watermark by $D^* = U_w S^*_w V^T_w$.\n",
    "\n",
    "3. Compute the corrupted watermark by subtracting the matrix $S$ from $D^*$ and dividing the result by the coefficient of the watermark, $K$.\n"
   ]
  },
  {
   "cell_type": "code",
   "execution_count": 97,
   "metadata": {
    "id": "des0DDGt25gw"
   },
   "outputs": [],
   "source": [
    "def get_watermark(watermarked_img, watermarked_u, S, watermarked_vh, watermarked_coeff):\n",
    "    ##################\n",
    "    #  Code here     #\n",
    "    u, watermark, vh = np.linalg.svd(watermarked_img)\n",
    "    miew = np.matrix(watermarked_u) * np.diag(watermark) *np.matrix(watermarked_vh)\n",
    "    watermark = (miew - S) / watermarked_coeff\n",
    "    #  35 points     #\n",
    "    ##################   \n",
    "    return watermark\n"
   ]
  },
  {
   "cell_type": "markdown",
   "metadata": {
    "id": "IbauGXQhFrJ4"
   },
   "source": [
    "Get the watermark logo and display it. Note that in this section we do not know the watermark coefficient. You have to run the previous cell's function for at least 5 different coefficients and compare the results.   "
   ]
  },
  {
   "cell_type": "code",
   "execution_count": 105,
   "metadata": {
    "id": "KSooqGefGCS4"
   },
   "outputs": [],
   "source": [
    "##################\n",
    "#  Code here     #\n",
    "for i in range(10):\n",
    "    watermark = get_watermark(watermarked_img, watermarked_u, S, watermarked_vh, (i+1)/10)\n",
    "    Image.fromarray(watermark).show()\n",
    "#  5 points      #\n",
    "##################\n"
   ]
  },
  {
   "cell_type": "markdown",
   "metadata": {
    "id": "tsbOXQpmIqX8"
   },
   "source": [
    "Explain the effect of different coefficient values on the quality of the displayed logo. [5 points]"
   ]
  },
  {
   "cell_type": "markdown",
   "metadata": {
    "id": "iTfEgFzlJKdY"
   },
   "source": [
    "Answer:"
   ]
  },
  {
   "attachments": {},
   "cell_type": "markdown",
   "metadata": {},
   "source": [
    "# مشاهده می کنیم که بهترین ضریب حدود 0.6 است\n",
    "# با ضرایب کم در کنار نوشته واترمارک، پیکسل های اضافی نامربوط دیده می شوند\n",
    "# همچنین با بیشتر شدن ضریب، خطوط واترمارک از هم متمایز تر می شوند اما از 0.6 به بعد \n",
    "# کمی کم رنگ و محو می شوند"
   ]
  }
 ],
 "metadata": {
  "colab": {
   "provenance": []
  },
  "kernelspec": {
   "display_name": "Python 3 (ipykernel)",
   "language": "python",
   "name": "python3"
  },
  "language_info": {
   "codemirror_mode": {
    "name": "ipython",
    "version": 3
   },
   "file_extension": ".py",
   "mimetype": "text/x-python",
   "name": "python",
   "nbconvert_exporter": "python",
   "pygments_lexer": "ipython3",
   "version": "3.11.0 (main, Oct 24 2022, 18:26:48) [MSC v.1933 64 bit (AMD64)]"
  },
  "vscode": {
   "interpreter": {
    "hash": "de47f5c92c0ee6f12a59a5613ac5feff6aab19ddff207ba0b3964cced08c4ccc"
   }
  }
 },
 "nbformat": 4,
 "nbformat_minor": 1
}
